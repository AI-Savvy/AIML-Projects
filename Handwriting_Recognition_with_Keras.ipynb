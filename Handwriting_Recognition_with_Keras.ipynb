{
  "cells": [
    {
      "cell_type": "markdown",
      "metadata": {
        "id": "Su7WoqFhwrwA"
      },
      "source": [
        "# Handwriting Recognition with Keras (CNN)\n",
        "\n",
        "Keras on the MNIST data set."
      ]
    },
    {
      "cell_type": "markdown",
      "source": [
        "## Importing Libraries"
      ],
      "metadata": {
        "id": "iyplfVkgy5bv"
      }
    },
    {
      "cell_type": "code",
      "execution_count": 12,
      "metadata": {
        "id": "XnsIfyo4wrwC"
      },
      "outputs": [],
      "source": [
        "import tensorflow\n",
        "from tensorflow.keras.datasets import mnist\n",
        "from tensorflow.keras.models import Sequential\n",
        "from tensorflow.keras.layers import Dense, Dropout, Conv2D, MaxPooling2D, Flatten\n",
        "from tensorflow.keras.optimizers import RMSprop"
      ]
    },
    {
      "cell_type": "markdown",
      "metadata": {
        "id": "O1c6Db9MwrwC"
      },
      "source": [
        "## Load MNIST Raw data"
      ]
    },
    {
      "cell_type": "code",
      "execution_count": 13,
      "metadata": {
        "id": "9zqsTK6zwrwD"
      },
      "outputs": [],
      "source": [
        "(mnist_train_images, mnist_train_labels), (mnist_test_images, mnist_test_labels) = mnist.load_data()"
      ]
    },
    {
      "cell_type": "markdown",
      "source": [
        "- 2D image custom pixel shaping\n",
        "- Single color channel(gray scale = 1)\n",
        "- shape (1x28x28, 28x28x1)"
      ],
      "metadata": {
        "id": "HEK5asxfzEjc"
      }
    },
    {
      "cell_type": "code",
      "execution_count": 14,
      "metadata": {
        "id": "SX4c7hABwrwD"
      },
      "outputs": [],
      "source": [
        "from tensorflow.keras import backend as K\n",
        "\n",
        "if K.image_data_format() == 'channels_first':\n",
        "    train_images = mnist_train_images.reshape(mnist_train_images.shape[0], 1, 28, 28)\n",
        "    test_images = mnist_test_images.reshape(mnist_test_images.shape[0], 1, 28, 28)\n",
        "    input_shape = (1, 28, 28)\n",
        "else:\n",
        "    train_images = mnist_train_images.reshape(mnist_train_images.shape[0], 28, 28, 1)\n",
        "    test_images = mnist_test_images.reshape(mnist_test_images.shape[0], 28, 28, 1)\n",
        "    input_shape = (28, 28, 1)\n",
        "    \n",
        "train_images = train_images.astype('float32')\n",
        "test_images = test_images.astype('float32')\n",
        "train_images /= 255\n",
        "test_images /= 255"
      ]
    },
    {
      "cell_type": "markdown",
      "metadata": {
        "id": "2CDyKVx5wrwD"
      },
      "source": [
        "## Tensorflow version of OneHotEncoding for categorizing lables"
      ]
    },
    {
      "cell_type": "code",
      "execution_count": 15,
      "metadata": {
        "id": "XsCrlm00wrwD"
      },
      "outputs": [],
      "source": [
        "train_labels = tensorflow.keras.utils.to_categorical(mnist_train_labels, 10)\n",
        "test_labels = tensorflow.keras.utils.to_categorical(mnist_test_labels, 10)"
      ]
    },
    {
      "cell_type": "code",
      "execution_count": 20,
      "metadata": {
        "colab": {
          "base_uri": "https://localhost:8080/",
          "height": 299
        },
        "id": "vIXM2heowrwE",
        "outputId": "8c0d6696-263d-4b56-d9ce-b49c46d82147"
      },
      "outputs": [
        {
          "output_type": "stream",
          "name": "stdout",
          "text": [
            "[0. 0. 0. 0. 0. 1. 0. 0. 0. 0.]\n"
          ]
        },
        {
          "output_type": "display_data",
          "data": {
            "text/plain": [
              "<Figure size 432x288 with 1 Axes>"
            ],
            "image/png": "[encoded data removed]"
          },
          "metadata": {
            "needs_background": "light"
          }
        }
      ],
      "source": [
        "# Plotting the image\n",
        "\n",
        "import matplotlib.pyplot as plt\n",
        "\n",
        "def display_sample(num):\n",
        "    #Print the one-hot array of this sample's label \n",
        "    print(train_labels[num])  \n",
        "\n",
        "    #Print the label converted back to a number\n",
        "    label = train_labels[num].argmax(axis=0)\n",
        "\n",
        "    #Reshape the 768 values to a 28x28 image\n",
        "    image = train_images[num].reshape([28,28])\n",
        "\n",
        "    # Naming the plot points and labels\n",
        "    plt.title('Sample: %d  Label: %d' % (num, label))\n",
        "    plt.imshow(image, cmap=plt.get_cmap('gray_r'))\n",
        "    plt.show()\n",
        "    \n",
        "display_sample(7390)"
      ]
    },
    {
      "cell_type": "markdown",
      "source": [
        "## Implementing CNN\n",
        "\n"
      ],
      "metadata": {
        "id": "3orpxe5w0ZBF"
      }
    },
    {
      "cell_type": "code",
      "execution_count": 22,
      "metadata": {
        "colab": {
          "base_uri": "https://localhost:8080/"
        },
        "id": "Q97ZkifXwrwF",
        "outputId": "d555c8e7-5234-4d6c-decf-86dd7373ba52"
      },
      "outputs": [
        {
          "output_type": "stream",
          "name": "stdout",
          "text": [
            "Model: \"sequential_2\"\n",
            "_________________________________________________________________\n",
            " Layer (type)                Output Shape              Param #   \n",
            "=================================================================\n",
            " conv2d_4 (Conv2D)           (None, 26, 26, 32)        320       \n",
            "                                                                 \n",
            " conv2d_5 (Conv2D)           (None, 24, 24, 64)        18496     \n",
            "                                                                 \n",
            " max_pooling2d_2 (MaxPooling  (None, 12, 12, 64)       0         \n",
            " 2D)                                                             \n",
            "                                                                 \n",
            " dropout_4 (Dropout)         (None, 12, 12, 64)        0         \n",
            "                                                                 \n",
            " flatten_2 (Flatten)         (None, 9216)              0         \n",
            "                                                                 \n",
            " dense_4 (Dense)             (None, 128)               1179776   \n",
            "                                                                 \n",
            " dropout_5 (Dropout)         (None, 128)               0         \n",
            "                                                                 \n",
            " dense_5 (Dense)             (None, 10)                1290      \n",
            "                                                                 \n",
            "=================================================================\n",
            "Total params: 1,199,882\n",
            "Trainable params: 1,199,882\n",
            "Non-trainable params: 0\n",
            "_________________________________________________________________\n"
          ]
        }
      ],
      "source": [
        "model = Sequential()\n",
        "model.add(Conv2D(32, kernel_size=(3, 3),\n",
        "                 activation='relu',\n",
        "                 input_shape=input_shape))\n",
        "\n",
        "# 64 3x3 kernels\n",
        "model.add(Conv2D(64, (3, 3), activation='relu'))\n",
        "\n",
        "# Reduce by taking the max of each 2x2 block\n",
        "model.add(MaxPooling2D(pool_size=(2, 2)))\n",
        "\n",
        "# Dropout to avoid overfitting\n",
        "model.add(Dropout(0.25))\n",
        "\n",
        "# Flatten the results to one dimension for passing into our final layer\n",
        "model.add(Flatten())\n",
        "\n",
        "# A hidden layer to learn with\n",
        "model.add(Dense(128, activation='relu'))\n",
        "\n",
        "# Another dropout\n",
        "model.add(Dropout(0.5))\n",
        "\n",
        "# Final categorization from 0-9 with softmax\n",
        "model.add(Dense(10, activation='softmax'))\n",
        "\n",
        "model.summary()"
      ]
    },
    {
      "cell_type": "code",
      "execution_count": 23,
      "metadata": {
        "id": "KEP2EozywrwG"
      },
      "outputs": [],
      "source": [
        "model.compile(loss='categorical_crossentropy',\n",
        "              optimizer='adam',\n",
        "              metrics=['accuracy']) # loss function - categorical corss entropy along with adam optimizer"
      ]
    },
    {
      "cell_type": "code",
      "execution_count": 24,
      "metadata": {
        "colab": {
          "base_uri": "https://localhost:8080/"
        },
        "id": "xVuRl2NWwrwG",
        "outputId": "1f48b294-5278-4720-b1ec-951f3ac09033"
      },
      "outputs": [
        {
          "output_type": "stream",
          "name": "stdout",
          "text": [
            "Epoch 1/25\n",
            "938/938 - 5s - loss: 0.2055 - accuracy: 0.9386 - val_loss: 0.0495 - val_accuracy: 0.9845 - 5s/epoch - 6ms/step\n",
            "Epoch 2/25\n",
            "938/938 - 5s - loss: 0.0833 - accuracy: 0.9743 - val_loss: 0.0413 - val_accuracy: 0.9870 - 5s/epoch - 5ms/step\n",
            "Epoch 3/25\n",
            "938/938 - 5s - loss: 0.0631 - accuracy: 0.9808 - val_loss: 0.0372 - val_accuracy: 0.9888 - 5s/epoch - 5ms/step\n",
            "Epoch 4/25\n",
            "938/938 - 4s - loss: 0.0525 - accuracy: 0.9839 - val_loss: 0.0357 - val_accuracy: 0.9882 - 4s/epoch - 5ms/step\n",
            "Epoch 5/25\n",
            "938/938 - 4s - loss: 0.0425 - accuracy: 0.9866 - val_loss: 0.0310 - val_accuracy: 0.9912 - 4s/epoch - 5ms/step\n",
            "Epoch 6/25\n",
            "938/938 - 4s - loss: 0.0382 - accuracy: 0.9879 - val_loss: 0.0313 - val_accuracy: 0.9907 - 4s/epoch - 5ms/step\n",
            "Epoch 7/25\n",
            "938/938 - 5s - loss: 0.0334 - accuracy: 0.9894 - val_loss: 0.0312 - val_accuracy: 0.9904 - 5s/epoch - 5ms/step\n",
            "Epoch 8/25\n",
            "938/938 - 4s - loss: 0.0299 - accuracy: 0.9903 - val_loss: 0.0301 - val_accuracy: 0.9916 - 4s/epoch - 5ms/step\n",
            "Epoch 9/25\n",
            "938/938 - 4s - loss: 0.0268 - accuracy: 0.9913 - val_loss: 0.0318 - val_accuracy: 0.9913 - 4s/epoch - 5ms/step\n",
            "Epoch 10/25\n",
            "938/938 - 5s - loss: 0.0238 - accuracy: 0.9923 - val_loss: 0.0369 - val_accuracy: 0.9904 - 5s/epoch - 5ms/step\n",
            "Epoch 11/25\n",
            "938/938 - 5s - loss: 0.0233 - accuracy: 0.9923 - val_loss: 0.0265 - val_accuracy: 0.9928 - 5s/epoch - 5ms/step\n",
            "Epoch 12/25\n",
            "938/938 - 5s - loss: 0.0191 - accuracy: 0.9938 - val_loss: 0.0326 - val_accuracy: 0.9915 - 5s/epoch - 5ms/step\n",
            "Epoch 13/25\n",
            "938/938 - 5s - loss: 0.0189 - accuracy: 0.9937 - val_loss: 0.0287 - val_accuracy: 0.9921 - 5s/epoch - 5ms/step\n",
            "Epoch 14/25\n",
            "938/938 - 4s - loss: 0.0171 - accuracy: 0.9945 - val_loss: 0.0314 - val_accuracy: 0.9921 - 4s/epoch - 5ms/step\n",
            "Epoch 15/25\n",
            "938/938 - 4s - loss: 0.0175 - accuracy: 0.9943 - val_loss: 0.0332 - val_accuracy: 0.9930 - 4s/epoch - 5ms/step\n",
            "Epoch 16/25\n",
            "938/938 - 5s - loss: 0.0154 - accuracy: 0.9948 - val_loss: 0.0321 - val_accuracy: 0.9920 - 5s/epoch - 5ms/step\n",
            "Epoch 17/25\n",
            "938/938 - 4s - loss: 0.0148 - accuracy: 0.9952 - val_loss: 0.0300 - val_accuracy: 0.9926 - 4s/epoch - 5ms/step\n",
            "Epoch 18/25\n",
            "938/938 - 5s - loss: 0.0142 - accuracy: 0.9953 - val_loss: 0.0341 - val_accuracy: 0.9919 - 5s/epoch - 5ms/step\n",
            "Epoch 19/25\n",
            "938/938 - 5s - loss: 0.0142 - accuracy: 0.9951 - val_loss: 0.0357 - val_accuracy: 0.9930 - 5s/epoch - 5ms/step\n",
            "Epoch 20/25\n",
            "938/938 - 4s - loss: 0.0139 - accuracy: 0.9952 - val_loss: 0.0342 - val_accuracy: 0.9923 - 4s/epoch - 5ms/step\n",
            "Epoch 21/25\n",
            "938/938 - 5s - loss: 0.0126 - accuracy: 0.9958 - val_loss: 0.0343 - val_accuracy: 0.9923 - 5s/epoch - 5ms/step\n",
            "Epoch 22/25\n",
            "938/938 - 5s - loss: 0.0121 - accuracy: 0.9958 - val_loss: 0.0332 - val_accuracy: 0.9918 - 5s/epoch - 5ms/step\n",
            "Epoch 23/25\n",
            "938/938 - 4s - loss: 0.0116 - accuracy: 0.9964 - val_loss: 0.0363 - val_accuracy: 0.9916 - 4s/epoch - 5ms/step\n",
            "Epoch 24/25\n",
            "938/938 - 5s - loss: 0.0125 - accuracy: 0.9958 - val_loss: 0.0312 - val_accuracy: 0.9926 - 5s/epoch - 5ms/step\n",
            "Epoch 25/25\n",
            "938/938 - 5s - loss: 0.0115 - accuracy: 0.9961 - val_loss: 0.0387 - val_accuracy: 0.9923 - 5s/epoch - 5ms/step\n"
          ]
        }
      ],
      "source": [
        "history = model.fit(train_images, train_labels,\n",
        "                    batch_size=64,\n",
        "                    epochs=25,\n",
        "                    verbose=2,\n",
        "                    validation_data=(test_images, test_labels))"
      ]
    },
    {
      "cell_type": "code",
      "execution_count": 10,
      "metadata": {
        "colab": {
          "base_uri": "https://localhost:8080/"
        },
        "id": "uDL_4XxMwrwH",
        "outputId": "9983ecbf-0024-4528-c2a9-2e6a92ed9fa5"
      },
      "outputs": [
        {
          "output_type": "stream",
          "name": "stdout",
          "text": [
            "Test loss: 0.027972299605607986\n",
            "Test accuracy: 0.9922000169754028\n"
          ]
        }
      ],
      "source": [
        "score = model.evaluate(test_images, test_labels, verbose=0)\n",
        "print('Test loss:', score[0])\n",
        "print('Test accuracy:', score[1])"
      ]
    }
  ],
  "metadata": {
    "kernelspec": {
      "display_name": "Python 3",
      "language": "python",
      "name": "python3"
    },
    "language_info": {
      "codemirror_mode": {
        "name": "ipython",
        "version": 3
      },
      "file_extension": ".py",
      "mimetype": "text/x-python",
      "name": "python",
      "nbconvert_exporter": "python",
      "pygments_lexer": "ipython3",
      "version": "3.7.3"
    },
    "colab": {
      "provenance": []
    },
    "accelerator": "GPU"
  },
  "nbformat": 4,
  "nbformat_minor": 0
}