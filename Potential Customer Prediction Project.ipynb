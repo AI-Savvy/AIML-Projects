{
 "cells": [
  {
   "cell_type": "markdown",
   "metadata": {
    "id": "fyXPVUW-w84W"
   },
   "source": [
    "# AIML Project - Bank and Finance - Potential Customer prediction"
   ]
  },
  {
   "cell_type": "markdown",
   "metadata": {
    "id": "QRibaNEAw84f"
   },
   "source": [
    "### 1. Import and warehouse data:"
   ]
  },
  {
   "cell_type": "code",
   "execution_count": 1,
   "metadata": {
    "executionInfo": {
     "elapsed": 1437,
     "status": "ok",
     "timestamp": 1612421263742,
     "user": {
      "displayName": "Abhishek Singh",
      "photoUrl": "",
      "userId": "02564130673443773880"
     },
     "user_tz": -330
    },
    "id": "YNnAEtxSw84j"
   },
   "outputs": [],
   "source": [
    "import pandas as pd\n",
    "import numpy as np\n",
    "\n",
    "df_per = pd.read_csv('/content/Data1.csv')\n",
    "df_fin = pd.read_csv('/content/Data2.csv')"
   ]
  },
  {
   "cell_type": "code",
   "execution_count": 2,
   "metadata": {
    "colab": {
     "base_uri": "https://localhost:8080/",
     "height": 204
    },
    "executionInfo": {
     "elapsed": 1608,
     "status": "ok",
     "timestamp": 1612421266537,
     "user": {
      "displayName": "Abhishek Singh",
      "photoUrl": "",
      "userId": "02564130673443773880"
     },
     "user_tz": -330
    },
    "id": "-X4Yulu2w84o",
    "outputId": "07e053bd-124d-436e-964e-f6a22386b09d"
   },
   "outputs": [
    {
     "data": {
      "text/html": [
       "<div>\n",
       "<style scoped>\n",
       "    .dataframe tbody tr th:only-of-type {\n",
       "        vertical-align: middle;\n",
       "    }\n",
       "\n",
       "    .dataframe tbody tr th {\n",
       "        vertical-align: top;\n",
       "    }\n",
       "\n",
       "    .dataframe thead th {\n",
       "        text-align: right;\n",
       "    }\n",
       "</style>\n",
       "<table border=\"1\" class=\"dataframe\">\n",
       "  <thead>\n",
       "    <tr style=\"text-align: right;\">\n",
       "      <th></th>\n",
       "      <th>ID</th>\n",
       "      <th>Age</th>\n",
       "      <th>CustomerSince</th>\n",
       "      <th>HighestSpend</th>\n",
       "      <th>ZipCode</th>\n",
       "      <th>HiddenScore</th>\n",
       "      <th>MonthlyAverageSpend</th>\n",
       "      <th>Level</th>\n",
       "    </tr>\n",
       "  </thead>\n",
       "  <tbody>\n",
       "    <tr>\n",
       "      <th>0</th>\n",
       "      <td>1</td>\n",
       "      <td>25</td>\n",
       "      <td>1</td>\n",
       "      <td>49</td>\n",
       "      <td>91107</td>\n",
       "      <td>4</td>\n",
       "      <td>1.6</td>\n",
       "      <td>1</td>\n",
       "    </tr>\n",
       "    <tr>\n",
       "      <th>1</th>\n",
       "      <td>2</td>\n",
       "      <td>45</td>\n",
       "      <td>19</td>\n",
       "      <td>34</td>\n",
       "      <td>90089</td>\n",
       "      <td>3</td>\n",
       "      <td>1.5</td>\n",
       "      <td>1</td>\n",
       "    </tr>\n",
       "    <tr>\n",
       "      <th>2</th>\n",
       "      <td>3</td>\n",
       "      <td>39</td>\n",
       "      <td>15</td>\n",
       "      <td>11</td>\n",
       "      <td>94720</td>\n",
       "      <td>1</td>\n",
       "      <td>1.0</td>\n",
       "      <td>1</td>\n",
       "    </tr>\n",
       "    <tr>\n",
       "      <th>3</th>\n",
       "      <td>4</td>\n",
       "      <td>35</td>\n",
       "      <td>9</td>\n",
       "      <td>100</td>\n",
       "      <td>94112</td>\n",
       "      <td>1</td>\n",
       "      <td>2.7</td>\n",
       "      <td>2</td>\n",
       "    </tr>\n",
       "    <tr>\n",
       "      <th>4</th>\n",
       "      <td>5</td>\n",
       "      <td>35</td>\n",
       "      <td>8</td>\n",
       "      <td>45</td>\n",
       "      <td>91330</td>\n",
       "      <td>4</td>\n",
       "      <td>1.0</td>\n",
       "      <td>2</td>\n",
       "    </tr>\n",
       "  </tbody>\n",
       "</table>\n",
       "</div>"
      ],
      "text/plain": [
       "   ID  Age  CustomerSince  ...  HiddenScore  MonthlyAverageSpend  Level\n",
       "0   1   25              1  ...            4                  1.6      1\n",
       "1   2   45             19  ...            3                  1.5      1\n",
       "2   3   39             15  ...            1                  1.0      1\n",
       "3   4   35              9  ...            1                  2.7      2\n",
       "4   5   35              8  ...            4                  1.0      2\n",
       "\n",
       "[5 rows x 8 columns]"
      ]
     },
     "execution_count": 2,
     "metadata": {
      "tags": []
     },
     "output_type": "execute_result"
    }
   ],
   "source": [
    "# Top 5 rows\n",
    "df_per.head()"
   ]
  },
  {
   "cell_type": "code",
   "execution_count": 3,
   "metadata": {
    "colab": {
     "base_uri": "https://localhost:8080/",
     "height": 204
    },
    "executionInfo": {
     "elapsed": 1059,
     "status": "ok",
     "timestamp": 1612421266540,
     "user": {
      "displayName": "Abhishek Singh",
      "photoUrl": "",
      "userId": "02564130673443773880"
     },
     "user_tz": -330
    },
    "id": "pAEJVFAIw84y",
    "outputId": "3bc72f54-00a6-4077-bdf5-36741f9d00b7"
   },
   "outputs": [
    {
     "data": {
      "text/html": [
       "<div>\n",
       "<style scoped>\n",
       "    .dataframe tbody tr th:only-of-type {\n",
       "        vertical-align: middle;\n",
       "    }\n",
       "\n",
       "    .dataframe tbody tr th {\n",
       "        vertical-align: top;\n",
       "    }\n",
       "\n",
       "    .dataframe thead th {\n",
       "        text-align: right;\n",
       "    }\n",
       "</style>\n",
       "<table border=\"1\" class=\"dataframe\">\n",
       "  <thead>\n",
       "    <tr style=\"text-align: right;\">\n",
       "      <th></th>\n",
       "      <th>ID</th>\n",
       "      <th>Mortgage</th>\n",
       "      <th>Security</th>\n",
       "      <th>FixedDepositAccount</th>\n",
       "      <th>InternetBanking</th>\n",
       "      <th>CreditCard</th>\n",
       "      <th>LoanOnCard</th>\n",
       "    </tr>\n",
       "  </thead>\n",
       "  <tbody>\n",
       "    <tr>\n",
       "      <th>0</th>\n",
       "      <td>1</td>\n",
       "      <td>0</td>\n",
       "      <td>1</td>\n",
       "      <td>0</td>\n",
       "      <td>0</td>\n",
       "      <td>0</td>\n",
       "      <td>NaN</td>\n",
       "    </tr>\n",
       "    <tr>\n",
       "      <th>1</th>\n",
       "      <td>2</td>\n",
       "      <td>0</td>\n",
       "      <td>1</td>\n",
       "      <td>0</td>\n",
       "      <td>0</td>\n",
       "      <td>0</td>\n",
       "      <td>NaN</td>\n",
       "    </tr>\n",
       "    <tr>\n",
       "      <th>2</th>\n",
       "      <td>3</td>\n",
       "      <td>0</td>\n",
       "      <td>0</td>\n",
       "      <td>0</td>\n",
       "      <td>0</td>\n",
       "      <td>0</td>\n",
       "      <td>NaN</td>\n",
       "    </tr>\n",
       "    <tr>\n",
       "      <th>3</th>\n",
       "      <td>4</td>\n",
       "      <td>0</td>\n",
       "      <td>0</td>\n",
       "      <td>0</td>\n",
       "      <td>0</td>\n",
       "      <td>0</td>\n",
       "      <td>NaN</td>\n",
       "    </tr>\n",
       "    <tr>\n",
       "      <th>4</th>\n",
       "      <td>5</td>\n",
       "      <td>0</td>\n",
       "      <td>0</td>\n",
       "      <td>0</td>\n",
       "      <td>0</td>\n",
       "      <td>1</td>\n",
       "      <td>NaN</td>\n",
       "    </tr>\n",
       "  </tbody>\n",
       "</table>\n",
       "</div>"
      ],
      "text/plain": [
       "   ID  Mortgage  Security  ...  InternetBanking  CreditCard  LoanOnCard\n",
       "0   1         0         1  ...                0           0         NaN\n",
       "1   2         0         1  ...                0           0         NaN\n",
       "2   3         0         0  ...                0           0         NaN\n",
       "3   4         0         0  ...                0           0         NaN\n",
       "4   5         0         0  ...                0           1         NaN\n",
       "\n",
       "[5 rows x 7 columns]"
      ]
     },
     "execution_count": 3,
     "metadata": {
      "tags": []
     },
     "output_type": "execute_result"
    }
   ],
   "source": [
    "# Top 5 rows\n",
    "df_fin.head()"
   ]
  },
  {
   "cell_type": "code",
   "execution_count": 4,
   "metadata": {
    "colab": {
     "base_uri": "https://localhost:8080/",
     "height": 224
    },
    "executionInfo": {
     "elapsed": 1636,
     "status": "ok",
     "timestamp": 1612421269395,
     "user": {
      "displayName": "Abhishek Singh",
      "photoUrl": "",
      "userId": "02564130673443773880"
     },
     "user_tz": -330
    },
    "id": "WKhHD3ETw841",
    "outputId": "bcec3bdf-326e-43c0-afbe-1a0542268d5f"
   },
   "outputs": [
    {
     "data": {
      "text/html": [
       "<div>\n",
       "<style scoped>\n",
       "    .dataframe tbody tr th:only-of-type {\n",
       "        vertical-align: middle;\n",
       "    }\n",
       "\n",
       "    .dataframe tbody tr th {\n",
       "        vertical-align: top;\n",
       "    }\n",
       "\n",
       "    .dataframe thead th {\n",
       "        text-align: right;\n",
       "    }\n",
       "</style>\n",
       "<table border=\"1\" class=\"dataframe\">\n",
       "  <thead>\n",
       "    <tr style=\"text-align: right;\">\n",
       "      <th></th>\n",
       "      <th>ID</th>\n",
       "      <th>Age</th>\n",
       "      <th>CustomerSince</th>\n",
       "      <th>HighestSpend</th>\n",
       "      <th>ZipCode</th>\n",
       "      <th>HiddenScore</th>\n",
       "      <th>MonthlyAverageSpend</th>\n",
       "      <th>Level</th>\n",
       "      <th>Mortgage</th>\n",
       "      <th>Security</th>\n",
       "      <th>FixedDepositAccount</th>\n",
       "      <th>InternetBanking</th>\n",
       "      <th>CreditCard</th>\n",
       "      <th>LoanOnCard</th>\n",
       "    </tr>\n",
       "  </thead>\n",
       "  <tbody>\n",
       "    <tr>\n",
       "      <th>0</th>\n",
       "      <td>1</td>\n",
       "      <td>25</td>\n",
       "      <td>1</td>\n",
       "      <td>49</td>\n",
       "      <td>91107</td>\n",
       "      <td>4</td>\n",
       "      <td>1.6</td>\n",
       "      <td>1</td>\n",
       "      <td>0</td>\n",
       "      <td>1</td>\n",
       "      <td>0</td>\n",
       "      <td>0</td>\n",
       "      <td>0</td>\n",
       "      <td>NaN</td>\n",
       "    </tr>\n",
       "    <tr>\n",
       "      <th>1</th>\n",
       "      <td>2</td>\n",
       "      <td>45</td>\n",
       "      <td>19</td>\n",
       "      <td>34</td>\n",
       "      <td>90089</td>\n",
       "      <td>3</td>\n",
       "      <td>1.5</td>\n",
       "      <td>1</td>\n",
       "      <td>0</td>\n",
       "      <td>1</td>\n",
       "      <td>0</td>\n",
       "      <td>0</td>\n",
       "      <td>0</td>\n",
       "      <td>NaN</td>\n",
       "    </tr>\n",
       "    <tr>\n",
       "      <th>2</th>\n",
       "      <td>3</td>\n",
       "      <td>39</td>\n",
       "      <td>15</td>\n",
       "      <td>11</td>\n",
       "      <td>94720</td>\n",
       "      <td>1</td>\n",
       "      <td>1.0</td>\n",
       "      <td>1</td>\n",
       "      <td>0</td>\n",
       "      <td>0</td>\n",
       "      <td>0</td>\n",
       "      <td>0</td>\n",
       "      <td>0</td>\n",
       "      <td>NaN</td>\n",
       "    </tr>\n",
       "    <tr>\n",
       "      <th>3</th>\n",
       "      <td>4</td>\n",
       "      <td>35</td>\n",
       "      <td>9</td>\n",
       "      <td>100</td>\n",
       "      <td>94112</td>\n",
       "      <td>1</td>\n",
       "      <td>2.7</td>\n",
       "      <td>2</td>\n",
       "      <td>0</td>\n",
       "      <td>0</td>\n",
       "      <td>0</td>\n",
       "      <td>0</td>\n",
       "      <td>0</td>\n",
       "      <td>NaN</td>\n",
       "    </tr>\n",
       "    <tr>\n",
       "      <th>4</th>\n",
       "      <td>5</td>\n",
       "      <td>35</td>\n",
       "      <td>8</td>\n",
       "      <td>45</td>\n",
       "      <td>91330</td>\n",
       "      <td>4</td>\n",
       "      <td>1.0</td>\n",
       "      <td>2</td>\n",
       "      <td>0</td>\n",
       "      <td>0</td>\n",
       "      <td>0</td>\n",
       "      <td>0</td>\n",
       "      <td>1</td>\n",
       "      <td>NaN</td>\n",
       "    </tr>\n",
       "  </tbody>\n",
       "</table>\n",
       "</div>"
      ],
      "text/plain": [
       "   ID  Age  CustomerSince  ...  InternetBanking  CreditCard  LoanOnCard\n",
       "0   1   25              1  ...                0           0         NaN\n",
       "1   2   45             19  ...                0           0         NaN\n",
       "2   3   39             15  ...                0           0         NaN\n",
       "3   4   35              9  ...                0           0         NaN\n",
       "4   5   35              8  ...                0           1         NaN\n",
       "\n",
       "[5 rows x 14 columns]"
      ]
     },
     "execution_count": 4,
     "metadata": {
      "tags": []
     },
     "output_type": "execute_result"
    }
   ],
   "source": [
    "# Merge both the data frames\n",
    "\n",
    "df = pd.merge(df_per, df_fin, on='ID')\n",
    "df.head()"
   ]
  },
  {
   "cell_type": "code",
   "execution_count": 5,
   "metadata": {
    "colab": {
     "base_uri": "https://localhost:8080/"
    },
    "executionInfo": {
     "elapsed": 1535,
     "status": "ok",
     "timestamp": 1612421270092,
     "user": {
      "displayName": "Abhishek Singh",
      "photoUrl": "",
      "userId": "02564130673443773880"
     },
     "user_tz": -330
    },
    "id": "unBhs_0Ow845",
    "outputId": "09d69beb-e239-43ba-e01e-ebf6bb81696b"
   },
   "outputs": [
    {
     "name": "stdout",
     "output_type": "stream",
     "text": [
      "> Shape: (5000, 14)\n",
      "\n",
      "> Size: 70000\n"
     ]
    }
   ],
   "source": [
    "# Shape and size of the dataframe\n",
    "print(\"> Shape:\",df.shape)\n",
    "print(\"\\n> Size:\",df.size)"
   ]
  },
  {
   "cell_type": "code",
   "execution_count": 6,
   "metadata": {
    "colab": {
     "base_uri": "https://localhost:8080/"
    },
    "executionInfo": {
     "elapsed": 1534,
     "status": "ok",
     "timestamp": 1612421270814,
     "user": {
      "displayName": "Abhishek Singh",
      "photoUrl": "",
      "userId": "02564130673443773880"
     },
     "user_tz": -330
    },
    "id": "WI2f5Q8ww848",
    "outputId": "374c69ad-6367-4f5c-d794-9abcbc98fcbf"
   },
   "outputs": [
    {
     "data": {
      "text/plain": [
       "Index(['ID', 'Age', 'CustomerSince', 'HighestSpend', 'ZipCode', 'HiddenScore',\n",
       "       'MonthlyAverageSpend', 'Level', 'Mortgage', 'Security',\n",
       "       'FixedDepositAccount', 'InternetBanking', 'CreditCard', 'LoanOnCard'],\n",
       "      dtype='object')"
      ]
     },
     "execution_count": 6,
     "metadata": {
      "tags": []
     },
     "output_type": "execute_result"
    }
   ],
   "source": [
    "# Column names\n",
    "df.columns"
   ]
  },
  {
   "cell_type": "code",
   "execution_count": 7,
   "metadata": {
    "colab": {
     "base_uri": "https://localhost:8080/"
    },
    "executionInfo": {
     "elapsed": 1050,
     "status": "ok",
     "timestamp": 1612421270820,
     "user": {
      "displayName": "Abhishek Singh",
      "photoUrl": "",
      "userId": "02564130673443773880"
     },
     "user_tz": -330
    },
    "id": "gbtTMEufw85A",
    "outputId": "377e77c8-a4d3-4347-fa4a-04a06d5c1dca"
   },
   "outputs": [
    {
     "data": {
      "text/plain": [
       "ID                       int64\n",
       "Age                      int64\n",
       "CustomerSince            int64\n",
       "HighestSpend             int64\n",
       "ZipCode                  int64\n",
       "HiddenScore              int64\n",
       "MonthlyAverageSpend    float64\n",
       "Level                    int64\n",
       "Mortgage                 int64\n",
       "Security                 int64\n",
       "FixedDepositAccount      int64\n",
       "InternetBanking          int64\n",
       "CreditCard               int64\n",
       "LoanOnCard             float64\n",
       "dtype: object"
      ]
     },
     "execution_count": 7,
     "metadata": {
      "tags": []
     },
     "output_type": "execute_result"
    }
   ],
   "source": [
    "# Data types of the attributes\n",
    "df.dtypes"
   ]
  },
  {
   "cell_type": "markdown",
   "metadata": {
    "id": "_I-3jKt1w85D"
   },
   "source": [
    "### 2. Data cleansing "
   ]
  },
  {
   "cell_type": "code",
   "execution_count": 8,
   "metadata": {
    "colab": {
     "base_uri": "https://localhost:8080/"
    },
    "executionInfo": {
     "elapsed": 1299,
     "status": "ok",
     "timestamp": 1612421272596,
     "user": {
      "displayName": "Abhishek Singh",
      "photoUrl": "",
      "userId": "02564130673443773880"
     },
     "user_tz": -330
    },
    "id": "aVJUg7Yyw85G",
    "outputId": "f60082ae-fa9b-4d6f-cf7c-60c2db36492f"
   },
   "outputs": [
    {
     "data": {
      "text/plain": [
       "ID                      0\n",
       "Age                     0\n",
       "CustomerSince           0\n",
       "HighestSpend            0\n",
       "ZipCode                 0\n",
       "HiddenScore             0\n",
       "MonthlyAverageSpend     0\n",
       "Level                   0\n",
       "Mortgage                0\n",
       "Security                0\n",
       "FixedDepositAccount     0\n",
       "InternetBanking         0\n",
       "CreditCard              0\n",
       "LoanOnCard             20\n",
       "dtype: int64"
      ]
     },
     "execution_count": 8,
     "metadata": {
      "tags": []
     },
     "output_type": "execute_result"
    }
   ],
   "source": [
    "# check for null value\n",
    "df.isnull().sum()"
   ]
  },
  {
   "cell_type": "code",
   "execution_count": 9,
   "metadata": {
    "colab": {
     "base_uri": "https://localhost:8080/"
    },
    "executionInfo": {
     "elapsed": 1304,
     "status": "ok",
     "timestamp": 1612421273395,
     "user": {
      "displayName": "Abhishek Singh",
      "photoUrl": "",
      "userId": "02564130673443773880"
     },
     "user_tz": -330
    },
    "id": "EYFNm48Kw85I",
    "outputId": "cfc86680-b30b-4929-9f95-47d9a8d01c49"
   },
   "outputs": [
    {
     "name": "stdout",
     "output_type": "stream",
     "text": [
      "> Original: 70000 vs New: 69720\n",
      "> Percentage of data lost 0.4 %\n",
      "\n",
      "> Not much data has been lost,dropping data was a good option\n"
     ]
    }
   ],
   "source": [
    "# Original dataframe size\n",
    "Original_size = df.size\n",
    "\n",
    "# drop dataframe\n",
    "df.dropna(inplace=True)\n",
    "\n",
    "# New dataframe size\n",
    "New_size=df.size\n",
    "\n",
    "print(\"> Original:\",Original_size,\"vs\",\"New:\",New_size)\n",
    "\n",
    "# Data drop impact analysis\n",
    "\n",
    "Data_lost=100*((Original_size-New_size)/Original_size)\n",
    "print(\"> Percentage of data lost\",Data_lost,\"%\")\n",
    "if Data_lost<=5:\n",
    "    print(\"\\n> Not much data has been lost,dropping data was a good option\")\n",
    "else:\n",
    "    print(\"\\n> Considerable data has been lost,dropping data was not a good option. We need to impute data\")"
   ]
  },
  {
   "cell_type": "code",
   "execution_count": 10,
   "metadata": {
    "executionInfo": {
     "elapsed": 1611,
     "status": "ok",
     "timestamp": 1612421276507,
     "user": {
      "displayName": "Abhishek Singh",
      "photoUrl": "",
      "userId": "02564130673443773880"
     },
     "user_tz": -330
    },
    "id": "uPyY-Zd4w85N"
   },
   "outputs": [],
   "source": [
    "# Correcting the  negative numbers in attribute \"experience\"\n",
    "df['CustomerSince'] = df['CustomerSince'].abs()"
   ]
  },
  {
   "cell_type": "markdown",
   "metadata": {
    "id": "Qt_rhlcfw85P"
   },
   "source": [
    "### 3. Data analysis & visualisation: "
   ]
  },
  {
   "cell_type": "code",
   "execution_count": 11,
   "metadata": {
    "executionInfo": {
     "elapsed": 957,
     "status": "ok",
     "timestamp": 1612421277248,
     "user": {
      "displayName": "Abhishek Singh",
      "photoUrl": "",
      "userId": "02564130673443773880"
     },
     "user_tz": -330
    },
    "id": "RozS5ZeCw85R"
   },
   "outputs": [],
   "source": [
    "# Exhaustive EDA"
   ]
  },
  {
   "cell_type": "code",
   "execution_count": 12,
   "metadata": {
    "executionInfo": {
     "elapsed": 1686,
     "status": "ok",
     "timestamp": 1612421278835,
     "user": {
      "displayName": "Abhishek Singh",
      "photoUrl": "",
      "userId": "02564130673443773880"
     },
     "user_tz": -330
    },
    "id": "Is4XRXMkw85T"
   },
   "outputs": [],
   "source": [
    "# Exhaustive statistical analysis"
   ]
  },
  {
   "cell_type": "markdown",
   "metadata": {
    "id": "Hq2byK_Lw85V"
   },
   "source": [
    "### 4. Data pre-processing:"
   ]
  },
  {
   "cell_type": "code",
   "execution_count": 13,
   "metadata": {
    "executionInfo": {
     "elapsed": 1363,
     "status": "ok",
     "timestamp": 1612421280788,
     "user": {
      "displayName": "Abhishek Singh",
      "photoUrl": "",
      "userId": "02564130673443773880"
     },
     "user_tz": -330
    },
    "id": "8OK__Citw85X"
   },
   "outputs": [],
   "source": [
    "# Segregate predictors vs target attributes\n",
    "\n",
    "X_df = df.loc[:, df.columns != 'LoanOnCard']\n",
    "y_df = df['LoanOnCard']"
   ]
  },
  {
   "cell_type": "code",
   "execution_count": 14,
   "metadata": {
    "colab": {
     "base_uri": "https://localhost:8080/"
    },
    "executionInfo": {
     "elapsed": 881,
     "status": "ok",
     "timestamp": 1612421281312,
     "user": {
      "displayName": "Abhishek Singh",
      "photoUrl": "",
      "userId": "02564130673443773880"
     },
     "user_tz": -330
    },
    "id": "9FNwqgcdw85Z",
    "outputId": "028664d1-afb1-4cc9-e67f-8d1f3fea105d"
   },
   "outputs": [
    {
     "data": {
      "text/plain": [
       "0.0    4500\n",
       "1.0     480\n",
       "Name: LoanOnCard, dtype: int64"
      ]
     },
     "execution_count": 14,
     "metadata": {
      "tags": []
     },
     "output_type": "execute_result"
    }
   ],
   "source": [
    "# Check for target balancing and fix it if found imbalanced.\n",
    "y_df.value_counts()"
   ]
  },
  {
   "cell_type": "code",
   "execution_count": null,
   "metadata": {
    "id": "R2TNT-O9w85b",
    "outputId": "e737c33b-deee-43f8-e8fd-9023df995861"
   },
   "outputs": [
    {
     "data": {
      "text/plain": [
       "0.0    4500\n",
       "1.0    4400\n",
       "Name: LoanOnCard, dtype: int64"
      ]
     },
     "execution_count": 15,
     "metadata": {
      "tags": []
     },
     "output_type": "execute_result"
    }
   ],
   "source": [
    "# Up-sample\n",
    "\n",
    "from sklearn.utils import resample\n",
    "\n",
    "# Separate majority and minority classes\n",
    "df_majority = df[y_df==0]\n",
    "df_minority = df[y_df==1]\n",
    " \n",
    "# Upsample minority class\n",
    "df_minority_upsampled = resample(df_minority, \n",
    "                                 replace=True,     # sample with replacement\n",
    "                                 n_samples=4400,    # to match majority class\n",
    "                                 random_state=123) # reproducible results\n",
    " \n",
    "# Combine majority class with upsampled minority class\n",
    "df_upsampled = pd.concat([df_majority, df_minority_upsampled])\n",
    " \n",
    "# Display new class counts\n",
    "df_upsampled['LoanOnCard'].value_counts()"
   ]
  },
  {
   "cell_type": "code",
   "execution_count": null,
   "metadata": {
    "id": "LxJVSGI3w85f",
    "outputId": "ada3d2d2-205d-477a-ded1-01f2e34ebe36"
   },
   "outputs": [
    {
     "data": {
      "text/html": [
       "<div>\n",
       "<style scoped>\n",
       "    .dataframe tbody tr th:only-of-type {\n",
       "        vertical-align: middle;\n",
       "    }\n",
       "\n",
       "    .dataframe tbody tr th {\n",
       "        vertical-align: top;\n",
       "    }\n",
       "\n",
       "    .dataframe thead th {\n",
       "        text-align: right;\n",
       "    }\n",
       "</style>\n",
       "<table border=\"1\" class=\"dataframe\">\n",
       "  <thead>\n",
       "    <tr style=\"text-align: right;\">\n",
       "      <th></th>\n",
       "      <th>ID</th>\n",
       "      <th>Age</th>\n",
       "      <th>CustomerSince</th>\n",
       "      <th>HighestSpend</th>\n",
       "      <th>ZipCode</th>\n",
       "      <th>HiddenScore</th>\n",
       "      <th>MonthlyAverageSpend</th>\n",
       "      <th>Level</th>\n",
       "      <th>Mortgage</th>\n",
       "      <th>Security</th>\n",
       "      <th>FixedDepositAccount</th>\n",
       "      <th>InternetBanking</th>\n",
       "      <th>CreditCard</th>\n",
       "      <th>LoanOnCard</th>\n",
       "    </tr>\n",
       "  </thead>\n",
       "  <tbody>\n",
       "    <tr>\n",
       "      <th>10</th>\n",
       "      <td>11</td>\n",
       "      <td>65</td>\n",
       "      <td>39</td>\n",
       "      <td>105</td>\n",
       "      <td>94710</td>\n",
       "      <td>4</td>\n",
       "      <td>2.4</td>\n",
       "      <td>3</td>\n",
       "      <td>0</td>\n",
       "      <td>0</td>\n",
       "      <td>0</td>\n",
       "      <td>0</td>\n",
       "      <td>0</td>\n",
       "      <td>0.0</td>\n",
       "    </tr>\n",
       "    <tr>\n",
       "      <th>11</th>\n",
       "      <td>12</td>\n",
       "      <td>29</td>\n",
       "      <td>5</td>\n",
       "      <td>45</td>\n",
       "      <td>90277</td>\n",
       "      <td>3</td>\n",
       "      <td>0.1</td>\n",
       "      <td>2</td>\n",
       "      <td>0</td>\n",
       "      <td>0</td>\n",
       "      <td>0</td>\n",
       "      <td>1</td>\n",
       "      <td>0</td>\n",
       "      <td>0.0</td>\n",
       "    </tr>\n",
       "    <tr>\n",
       "      <th>12</th>\n",
       "      <td>13</td>\n",
       "      <td>48</td>\n",
       "      <td>23</td>\n",
       "      <td>114</td>\n",
       "      <td>93106</td>\n",
       "      <td>2</td>\n",
       "      <td>3.8</td>\n",
       "      <td>3</td>\n",
       "      <td>0</td>\n",
       "      <td>1</td>\n",
       "      <td>0</td>\n",
       "      <td>0</td>\n",
       "      <td>0</td>\n",
       "      <td>0.0</td>\n",
       "    </tr>\n",
       "    <tr>\n",
       "      <th>13</th>\n",
       "      <td>14</td>\n",
       "      <td>59</td>\n",
       "      <td>32</td>\n",
       "      <td>40</td>\n",
       "      <td>94920</td>\n",
       "      <td>4</td>\n",
       "      <td>2.5</td>\n",
       "      <td>2</td>\n",
       "      <td>0</td>\n",
       "      <td>0</td>\n",
       "      <td>0</td>\n",
       "      <td>1</td>\n",
       "      <td>0</td>\n",
       "      <td>0.0</td>\n",
       "    </tr>\n",
       "    <tr>\n",
       "      <th>14</th>\n",
       "      <td>15</td>\n",
       "      <td>67</td>\n",
       "      <td>41</td>\n",
       "      <td>112</td>\n",
       "      <td>91741</td>\n",
       "      <td>1</td>\n",
       "      <td>2.0</td>\n",
       "      <td>1</td>\n",
       "      <td>0</td>\n",
       "      <td>1</td>\n",
       "      <td>0</td>\n",
       "      <td>0</td>\n",
       "      <td>0</td>\n",
       "      <td>0.0</td>\n",
       "    </tr>\n",
       "  </tbody>\n",
       "</table>\n",
       "</div>"
      ],
      "text/plain": [
       "    ID  Age  CustomerSince  HighestSpend  ZipCode  HiddenScore  \\\n",
       "10  11   65             39           105    94710            4   \n",
       "11  12   29              5            45    90277            3   \n",
       "12  13   48             23           114    93106            2   \n",
       "13  14   59             32            40    94920            4   \n",
       "14  15   67             41           112    91741            1   \n",
       "\n",
       "    MonthlyAverageSpend  Level  Mortgage  Security  FixedDepositAccount  \\\n",
       "10                  2.4      3         0         0                    0   \n",
       "11                  0.1      2         0         0                    0   \n",
       "12                  3.8      3         0         1                    0   \n",
       "13                  2.5      2         0         0                    0   \n",
       "14                  2.0      1         0         1                    0   \n",
       "\n",
       "    InternetBanking  CreditCard  LoanOnCard  \n",
       "10                0           0         0.0  \n",
       "11                1           0         0.0  \n",
       "12                0           0         0.0  \n",
       "13                1           0         0.0  \n",
       "14                0           0         0.0  "
      ]
     },
     "execution_count": 16,
     "metadata": {
      "tags": []
     },
     "output_type": "execute_result"
    }
   ],
   "source": [
    "# top 5 rows fo the dataframe\n",
    "df_upsampled.head()"
   ]
  },
  {
   "cell_type": "code",
   "execution_count": null,
   "metadata": {
    "id": "bPRBHreJw85h",
    "outputId": "17a52587-7798-4f58-f838-750279a13963"
   },
   "outputs": [
    {
     "name": "stdout",
     "output_type": "stream",
     "text": [
      "> Shape: (8900, 14)\n",
      "\n",
      "> Size: 124600\n"
     ]
    }
   ],
   "source": [
    "# Shape and size of the dataframe\n",
    "print(\"> Shape:\",df_upsampled.shape)\n",
    "print(\"\\n> Size:\",df_upsampled.size)"
   ]
  },
  {
   "cell_type": "code",
   "execution_count": null,
   "metadata": {
    "id": "8SPi04Erw85k"
   },
   "outputs": [],
   "source": [
    "# Down-sample\n",
    "\n",
    "from sklearn.utils import resample\n",
    "\n",
    "# Separate majority and minority classes\n",
    "df_majority = df[y_df==0]\n",
    "df_minority = df[y_df==1]\n",
    " \n",
    "# Upsample minority class\n",
    "df_majority_downsampled = resample(df_majority, \n",
    "                                 replace=False,    # sample without replacement\n",
    "                                 n_samples=600,     # to match minority class\n",
    "                                 random_state=123) # reproducible results\n",
    " \n",
    "# Combine majority class with upsampled minority class\n",
    "df_downsampled = pd.concat([df_majority_downsampled, df_minority])\n",
    " \n",
    "# Display new class counts\n",
    "df_downsampled['LoanOnCard'].value_counts()"
   ]
  },
  {
   "cell_type": "code",
   "execution_count": null,
   "metadata": {
    "id": "EpvHVZuyw85m"
   },
   "outputs": [],
   "source": [
    "# top 5 rows fo the dataframe\n",
    "df_downsampled.head()"
   ]
  },
  {
   "cell_type": "code",
   "execution_count": null,
   "metadata": {
    "id": "FeYcdp40w85o"
   },
   "outputs": [],
   "source": [
    "# Shape and size of the dataframe\n",
    "print(\"> Shape:\",df_downsampled.shape)\n",
    "print(\"\\n> Size:\",df_downsampled.size)"
   ]
  },
  {
   "cell_type": "code",
   "execution_count": null,
   "metadata": {
    "id": "94slW1H9w85q"
   },
   "outputs": [],
   "source": [
    "#Segregate predictors vs target attributes\n",
    "\n",
    "X_df = df_upsampled.loc[:, df.columns != 'LoanOnCard']  # choose appropriate dataframe\n",
    "y_df = df_upsampled['LoanOnCard']"
   ]
  },
  {
   "cell_type": "code",
   "execution_count": null,
   "metadata": {
    "id": "aLhKyzZTw85s"
   },
   "outputs": [],
   "source": [
    "# train test split\n",
    "from sklearn.model_selection import train_test_split\n",
    "x_train,x_test,y_train,y_test = train_test_split(X_df,y_df,test_size = 0.3, random_state=1)"
   ]
  },
  {
   "cell_type": "markdown",
   "metadata": {
    "id": "IqnKYOrsw85t"
   },
   "source": [
    "### 5. Model training, testing and tuning: "
   ]
  },
  {
   "cell_type": "code",
   "execution_count": null,
   "metadata": {
    "id": "OUH44yIrw85w",
    "outputId": "7927c073-8d93-47b9-afc6-975e3cab1420"
   },
   "outputs": [
    {
     "name": "stdout",
     "output_type": "stream",
     "text": [
      "\n",
      "Test accuracy: 86.71 %\n",
      "\n",
      "Confusion matrix:\n",
      "\n",
      " [[2668  475]\n",
      " [ 353 2734]]\n",
      "\n",
      "Test accuracy: 86.59 %\n",
      "\n",
      "Confusion matrix:\n",
      "\n",
      " [[1145  212]\n",
      " [ 146 1167]]\n"
     ]
    }
   ],
   "source": [
    "# Logistic regression\n",
    "\n",
    "from sklearn.linear_model import LogisticRegression\n",
    "from sklearn import metrics\n",
    "\n",
    "model = LogisticRegression()\n",
    "model.fit(x_train, y_train)\n",
    "\n",
    "model_score = model.score(x_train, y_train)\n",
    "y_predict = model.predict(x_train)\n",
    "print(\"\\nTest accuracy:\",round(100*model_score,2),\"%\")\n",
    "print(\"\\nConfusion matrix:\\n\\n\",metrics.confusion_matrix(y_train, y_predict))\n",
    "\n",
    "model_score = model.score(x_test, y_test)\n",
    "y_predict = model.predict(x_test)\n",
    "\n",
    "print(\"\\nTest accuracy:\",round(100*model_score,2),\"%\")\n",
    "print(\"\\nConfusion matrix:\\n\\n\",metrics.confusion_matrix(y_test, y_predict))"
   ]
  },
  {
   "cell_type": "markdown",
   "metadata": {
    "id": "1YvIZYJxw85y"
   },
   "source": []
  },
  {
   "cell_type": "code",
   "execution_count": null,
   "metadata": {
    "id": "rWQNzI03w850",
    "outputId": "d8add33f-a107-4d62-85f8-f581d5350639"
   },
   "outputs": [
    {
     "name": "stdout",
     "output_type": "stream",
     "text": [
      "\n",
      "Test accuracy: 83.29 %\n",
      "\n",
      "Confusion matrix:\n",
      "\n",
      " [[2770  373]\n",
      " [ 668 2419]]\n",
      "\n",
      "Test accuracy: 83.75 %\n",
      "\n",
      "Confusion matrix:\n",
      "\n",
      " [[1196  161]\n",
      " [ 273 1040]]\n"
     ]
    }
   ],
   "source": [
    "# Naive Bayes\n",
    "\n",
    "from sklearn.naive_bayes import GaussianNB\n",
    "model = GaussianNB()\n",
    "model.fit(x_train, y_train)\n",
    "\n",
    "model_score = model.score(x_train, y_train)\n",
    "y_predict = model.predict(x_train)\n",
    "print(\"\\nTest accuracy:\",round(100*model_score,2),\"%\")\n",
    "print(\"\\nConfusion matrix:\\n\\n\",metrics.confusion_matrix(y_train, y_predict))\n",
    "\n",
    "model_score = model.score(x_test, y_test)\n",
    "y_predict = model.predict(x_test)\n",
    "\n",
    "print(\"\\nTest accuracy:\",round(100*model_score,2),\"%\")\n",
    "print(\"\\nConfusion matrix:\\n\\n\",metrics.confusion_matrix(y_test, y_predict))"
   ]
  }
 ],
 "metadata": {
  "colab": {
   "collapsed_sections": [],
   "name": "SL - Project 2.ipynb",
   "provenance": [],
   "toc_visible": true
  },
  "kernelspec": {
   "display_name": "Python 3 (ipykernel)",
   "language": "python",
   "name": "python3"
  },
  "language_info": {
   "codemirror_mode": {
    "name": "ipython",
    "version": 3
   },
   "file_extension": ".py",
   "mimetype": "text/x-python",
   "name": "python",
   "nbconvert_exporter": "python",
   "pygments_lexer": "ipython3",
   "version": "3.9.7"
  }
 },
 "nbformat": 4,
 "nbformat_minor": 4
}
